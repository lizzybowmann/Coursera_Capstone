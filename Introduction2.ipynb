{
    "cells": [
        {
            "cell_type": "markdown",
            "metadata": {
                "collapsed": true
            },
            "source": "# Capstone Project - The Battle of Neighborhoods"
        },
        {
            "cell_type": "markdown",
            "metadata": {},
            "source": "## Week 1"
        },
        {
            "cell_type": "markdown",
            "metadata": {},
            "source": "### Introduction"
        },
        {
            "cell_type": "markdown",
            "metadata": {},
            "source": "For this project, I will be identifying the key factors in opening a successful restaurant in Rio de Janeiro.  To do this, I will gather data from restaurants within Rio."
        },
        {
            "cell_type": "markdown",
            "metadata": {},
            "source": "Specifically, the data I will be observing is: location, popularity, and restaurant type."
        },
        {
            "cell_type": "markdown",
            "metadata": {},
            "source": "The target audience for these results is anyone looking to open a restaurant in Rio de Janeiro, but more specifically those who are unfamiliar with the area."
        },
        {
            "cell_type": "markdown",
            "metadata": {},
            "source": "### Data"
        },
        {
            "cell_type": "markdown",
            "metadata": {},
            "source": "I will be using Foursquare data on the city Rio de Janeiro.  As I touched on in the introduction, I will be observing location, popularity, and restaurant type in order to predict the best place to open a restaurant in Rio.  "
        },
        {
            "cell_type": "code",
            "execution_count": null,
            "metadata": {},
            "outputs": [],
            "source": ""
        }
    ],
    "metadata": {
        "kernelspec": {
            "display_name": "Python 3.6",
            "language": "python",
            "name": "python3"
        },
        "language_info": {
            "codemirror_mode": {
                "name": "ipython",
                "version": 3
            },
            "file_extension": ".py",
            "mimetype": "text/x-python",
            "name": "python",
            "nbconvert_exporter": "python",
            "pygments_lexer": "ipython3",
            "version": "3.6.9"
        }
    },
    "nbformat": 4,
    "nbformat_minor": 1
}