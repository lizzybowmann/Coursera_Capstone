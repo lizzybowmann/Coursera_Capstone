{
    "cells": [
        {
            "cell_type": "markdown",
            "metadata": {
                "collapsed": true
            },
            "source": "# Capstone Project - The Battle of Neighborhoods"
        },
        {
            "cell_type": "markdown",
            "metadata": {},
            "source": "## Week 1"
        },
        {
            "cell_type": "markdown",
            "metadata": {},
            "source": "### Introduction"
        },
        {
            "cell_type": "markdown",
            "metadata": {},
            "source": "Rio de Janeiro is one of the most popular cities in Brazil and a huge tourist spot.  A big part of all tourist spots is having good and interesting places to eat.  Restaurants in tourist destinations have a large advantage compared to restaurants located in less populated areas, however these restaurants also have a lot more competition."
        },
        {
            "cell_type": "markdown",
            "metadata": {},
            "source": "For this project, I will be figuring out the key factors that lead to having a successful restaurant in the Rio de Janeiro area. "
        },
        {
            "cell_type": "markdown",
            "metadata": {},
            "source": "There are two target audiences for this report.  The first one is anyone interested in opening a restaurant in Rio de Janeiro.  This report will provide them with specifics on location and cuisine, so that they know exactly how to be successful.  The second target audience is anyone who already has a restaurant in this area, but may be struggling or is simply looking to improve their business.  This will help them to better understand how other restaurants manage to thrive in Rio de Janeiro."
        },
        {
            "cell_type": "markdown",
            "metadata": {},
            "source": "### Data"
        },
        {
            "cell_type": "markdown",
            "metadata": {},
            "source": "I plan to answer this question using Foursquare API, and gather data on Rio de Janeiro via Foursquare.  "
        },
        {
            "cell_type": "markdown",
            "metadata": {},
            "source": "The specific restaurant data I will be looking at is location, venue, type of cuisine, amount of reviews, and overall popularity.  All of this information combined will help me to figure out what leads to owning a successful restaurant in Rio de Janeiro."
        },
        {
            "cell_type": "markdown",
            "metadata": {},
            "source": "I plan to accomplish this by calculating the latitude and longitude of Rio de Janeiro in order to locate restaurants within the city.  I then will create a table of all the restaurants in order to easily compare, and will display specific information of each such as type of cuisine, address, latitude, longitude, etc."
        },
        {
            "cell_type": "markdown",
            "metadata": {},
            "source": "Following this, I will display a map in order to identify a specific area where restaurants seem to thrive the most."
        },
        {
            "cell_type": "markdown",
            "metadata": {},
            "source": "This will ultimately lead to finding out exactly how to open a successful restaurant in Rio de Janeiro."
        },
        {
            "cell_type": "code",
            "execution_count": null,
            "metadata": {},
            "outputs": [],
            "source": ""
        }
    ],
    "metadata": {
        "kernelspec": {
            "display_name": "Python 3.6",
            "language": "python",
            "name": "python3"
        },
        "language_info": {
            "codemirror_mode": {
                "name": "ipython",
                "version": 3
            },
            "file_extension": ".py",
            "mimetype": "text/x-python",
            "name": "python",
            "nbconvert_exporter": "python",
            "pygments_lexer": "ipython3",
            "version": "3.6.9"
        }
    },
    "nbformat": 4,
    "nbformat_minor": 1
}